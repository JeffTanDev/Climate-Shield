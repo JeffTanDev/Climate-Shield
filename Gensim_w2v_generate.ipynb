{
  "nbformat": 4,
  "nbformat_minor": 0,
  "metadata": {
    "colab": {
      "provenance": []
    },
    "kernelspec": {
      "name": "python3",
      "display_name": "Python 3"
    },
    "language_info": {
      "name": "python"
    }
  },
  "cells": [
    {
      "cell_type": "code",
      "source": [
        "!pip install \"numpy<2\" scipy pandas scikit-learn matplotlib seaborn numba==0.60.* pyldavis gensim\n"
      ],
      "metadata": {
        "colab": {
          "base_uri": "https://localhost:8080/"
        },
        "id": "HexdkNcrkdk7",
        "outputId": "9e585bd8-21e3-42fd-aa30-a9c47fe65fd2"
      },
      "execution_count": null,
      "outputs": [
        {
          "output_type": "stream",
          "name": "stdout",
          "text": [
            "Collecting numpy<2\n",
            "  Downloading numpy-1.26.4-cp311-cp311-manylinux_2_17_x86_64.manylinux2014_x86_64.whl.metadata (61 kB)\n",
            "\u001b[?25l     \u001b[90m━━━━━━━━━━━━━━━━━━━━━━━━━━━━━━━━━━━━━━━━\u001b[0m \u001b[32m0.0/61.0 kB\u001b[0m \u001b[31m?\u001b[0m eta \u001b[36m-:--:--\u001b[0m\r\u001b[2K     \u001b[90m━━━━━━━━━━━━━━━━━━━━━━━━━━━━━━━━━━━━━━━━\u001b[0m \u001b[32m61.0/61.0 kB\u001b[0m \u001b[31m2.0 MB/s\u001b[0m eta \u001b[36m0:00:00\u001b[0m\n",
            "\u001b[?25hRequirement already satisfied: scipy in /usr/local/lib/python3.11/dist-packages (1.14.1)\n",
            "Requirement already satisfied: pandas in /usr/local/lib/python3.11/dist-packages (2.2.2)\n",
            "Requirement already satisfied: scikit-learn in /usr/local/lib/python3.11/dist-packages (1.6.1)\n",
            "Requirement already satisfied: matplotlib in /usr/local/lib/python3.11/dist-packages (3.10.0)\n",
            "Requirement already satisfied: seaborn in /usr/local/lib/python3.11/dist-packages (0.13.2)\n",
            "Requirement already satisfied: numba==0.60.* in /usr/local/lib/python3.11/dist-packages (0.60.0)\n",
            "Collecting pyldavis\n",
            "  Downloading pyLDAvis-3.4.1-py3-none-any.whl.metadata (4.2 kB)\n",
            "Collecting gensim\n",
            "  Downloading gensim-4.3.3-cp311-cp311-manylinux_2_17_x86_64.manylinux2014_x86_64.whl.metadata (8.1 kB)\n",
            "Requirement already satisfied: llvmlite<0.44,>=0.43.0dev0 in /usr/local/lib/python3.11/dist-packages (from numba==0.60.*) (0.43.0)\n",
            "Requirement already satisfied: python-dateutil>=2.8.2 in /usr/local/lib/python3.11/dist-packages (from pandas) (2.8.2)\n",
            "Requirement already satisfied: pytz>=2020.1 in /usr/local/lib/python3.11/dist-packages (from pandas) (2025.2)\n",
            "Requirement already satisfied: tzdata>=2022.7 in /usr/local/lib/python3.11/dist-packages (from pandas) (2025.2)\n",
            "Requirement already satisfied: joblib>=1.2.0 in /usr/local/lib/python3.11/dist-packages (from scikit-learn) (1.4.2)\n",
            "Requirement already satisfied: threadpoolctl>=3.1.0 in /usr/local/lib/python3.11/dist-packages (from scikit-learn) (3.6.0)\n",
            "Requirement already satisfied: contourpy>=1.0.1 in /usr/local/lib/python3.11/dist-packages (from matplotlib) (1.3.2)\n",
            "Requirement already satisfied: cycler>=0.10 in /usr/local/lib/python3.11/dist-packages (from matplotlib) (0.12.1)\n",
            "Requirement already satisfied: fonttools>=4.22.0 in /usr/local/lib/python3.11/dist-packages (from matplotlib) (4.57.0)\n",
            "Requirement already satisfied: kiwisolver>=1.3.1 in /usr/local/lib/python3.11/dist-packages (from matplotlib) (1.4.8)\n",
            "Requirement already satisfied: packaging>=20.0 in /usr/local/lib/python3.11/dist-packages (from matplotlib) (24.2)\n",
            "Requirement already satisfied: pillow>=8 in /usr/local/lib/python3.11/dist-packages (from matplotlib) (11.1.0)\n",
            "Requirement already satisfied: pyparsing>=2.3.1 in /usr/local/lib/python3.11/dist-packages (from matplotlib) (3.2.3)\n",
            "Requirement already satisfied: jinja2 in /usr/local/lib/python3.11/dist-packages (from pyldavis) (3.1.6)\n",
            "Requirement already satisfied: numexpr in /usr/local/lib/python3.11/dist-packages (from pyldavis) (2.10.2)\n",
            "Collecting funcy (from pyldavis)\n",
            "  Downloading funcy-2.0-py2.py3-none-any.whl.metadata (5.9 kB)\n",
            "Requirement already satisfied: setuptools in /usr/local/lib/python3.11/dist-packages (from pyldavis) (75.2.0)\n",
            "Collecting scipy\n",
            "  Downloading scipy-1.13.1-cp311-cp311-manylinux_2_17_x86_64.manylinux2014_x86_64.whl.metadata (60 kB)\n",
            "\u001b[2K     \u001b[90m━━━━━━━━━━━━━━━━━━━━━━━━━━━━━━━━━━━━━━━━\u001b[0m \u001b[32m60.6/60.6 kB\u001b[0m \u001b[31m2.6 MB/s\u001b[0m eta \u001b[36m0:00:00\u001b[0m\n",
            "\u001b[?25hRequirement already satisfied: smart-open>=1.8.1 in /usr/local/lib/python3.11/dist-packages (from gensim) (7.1.0)\n",
            "Requirement already satisfied: six>=1.5 in /usr/local/lib/python3.11/dist-packages (from python-dateutil>=2.8.2->pandas) (1.17.0)\n",
            "Requirement already satisfied: wrapt in /usr/local/lib/python3.11/dist-packages (from smart-open>=1.8.1->gensim) (1.17.2)\n",
            "Requirement already satisfied: MarkupSafe>=2.0 in /usr/local/lib/python3.11/dist-packages (from jinja2->pyldavis) (3.0.2)\n",
            "Downloading numpy-1.26.4-cp311-cp311-manylinux_2_17_x86_64.manylinux2014_x86_64.whl (18.3 MB)\n",
            "\u001b[2K   \u001b[90m━━━━━━━━━━━━━━━━━━━━━━━━━━━━━━━━━━━━━━━━\u001b[0m \u001b[32m18.3/18.3 MB\u001b[0m \u001b[31m64.0 MB/s\u001b[0m eta \u001b[36m0:00:00\u001b[0m\n",
            "\u001b[?25hDownloading pyLDAvis-3.4.1-py3-none-any.whl (2.6 MB)\n",
            "\u001b[2K   \u001b[90m━━━━━━━━━━━━━━━━━━━━━━━━━━━━━━━━━━━━━━━━\u001b[0m \u001b[32m2.6/2.6 MB\u001b[0m \u001b[31m55.1 MB/s\u001b[0m eta \u001b[36m0:00:00\u001b[0m\n",
            "\u001b[?25hDownloading gensim-4.3.3-cp311-cp311-manylinux_2_17_x86_64.manylinux2014_x86_64.whl (26.7 MB)\n",
            "\u001b[2K   \u001b[90m━━━━━━━━━━━━━━━━━━━━━━━━━━━━━━━━━━━━━━━━\u001b[0m \u001b[32m26.7/26.7 MB\u001b[0m \u001b[31m60.3 MB/s\u001b[0m eta \u001b[36m0:00:00\u001b[0m\n",
            "\u001b[?25hDownloading scipy-1.13.1-cp311-cp311-manylinux_2_17_x86_64.manylinux2014_x86_64.whl (38.6 MB)\n",
            "\u001b[2K   \u001b[90m━━━━━━━━━━━━━━━━━━━━━━━━━━━━━━━━━━━━━━━━\u001b[0m \u001b[32m38.6/38.6 MB\u001b[0m \u001b[31m20.4 MB/s\u001b[0m eta \u001b[36m0:00:00\u001b[0m\n",
            "\u001b[?25hDownloading funcy-2.0-py2.py3-none-any.whl (30 kB)\n",
            "Installing collected packages: funcy, numpy, scipy, gensim, pyldavis\n",
            "  Attempting uninstall: numpy\n",
            "    Found existing installation: numpy 2.0.2\n",
            "    Uninstalling numpy-2.0.2:\n",
            "      Successfully uninstalled numpy-2.0.2\n",
            "  Attempting uninstall: scipy\n",
            "    Found existing installation: scipy 1.14.1\n",
            "    Uninstalling scipy-1.14.1:\n",
            "      Successfully uninstalled scipy-1.14.1\n",
            "\u001b[31mERROR: pip's dependency resolver does not currently take into account all the packages that are installed. This behaviour is the source of the following dependency conflicts.\n",
            "thinc 8.3.6 requires numpy<3.0.0,>=2.0.0, but you have numpy 1.26.4 which is incompatible.\u001b[0m\u001b[31m\n",
            "\u001b[0mSuccessfully installed funcy-2.0 gensim-4.3.3 numpy-1.26.4 pyldavis-3.4.1 scipy-1.13.1\n"
          ]
        }
      ]
    },
    {
      "cell_type": "code",
      "source": [
        "!pip uninstall -y thinc spacy fastai raft-dask-cu12 dask-cuda cudf-cu12 \\\n",
        "                distributed-ucxx-cu12 >/dev/null\n",
        "##!!!!!!!!!!---Please--restart the code-execution program--restart the session------this step is very important!!!!!!!!!!!!!"
      ],
      "metadata": {
        "id": "y5Bd7opklpl6"
      },
      "execution_count": null,
      "outputs": []
    },
    {
      "cell_type": "code",
      "source": [
        "import numpy, scipy, gensim\n",
        "print(numpy.__version__, scipy.__version__, gensim.__version__)\n",
        "## 1.26.4//1.13.1//4.3.3"
      ],
      "metadata": {
        "colab": {
          "base_uri": "https://localhost:8080/"
        },
        "id": "rnMalIuWk5zI",
        "outputId": "dad7235f-1d24-4dc9-c165-1788df479d1f"
      },
      "execution_count": null,
      "outputs": [
        {
          "output_type": "stream",
          "name": "stdout",
          "text": [
            "1.26.4 1.13.1 4.3.3\n"
          ]
        }
      ]
    },
    {
      "cell_type": "code",
      "source": [
        "!pip install -q kagglehub\n",
        "import kagglehub, pathlib\n",
        "dataset_path = kagglehub.dataset_download(\"vbmokin/nlp-with-disaster-tweets-cleaning-data\")\n",
        "print(\"Data has been download to\", dataset_path)\n"
      ],
      "metadata": {
        "colab": {
          "base_uri": "https://localhost:8080/"
        },
        "id": "DhL8qbI_mqxx",
        "outputId": "e62faae0-d0a9-4328-e297-02c30190bacb"
      },
      "execution_count": null,
      "outputs": [
        {
          "output_type": "stream",
          "name": "stdout",
          "text": [
            "Downloading from https://www.kaggle.com/api/v1/datasets/download/vbmokin/nlp-with-disaster-tweets-cleaning-data?dataset_version_number=2...\n"
          ]
        },
        {
          "output_type": "stream",
          "name": "stderr",
          "text": [
            "100%|██████████| 1.00M/1.00M [00:00<00:00, 1.45MB/s]"
          ]
        },
        {
          "output_type": "stream",
          "name": "stdout",
          "text": [
            "Extracting files...\n",
            "数据已下载到： /root/.cache/kagglehub/datasets/vbmokin/nlp-with-disaster-tweets-cleaning-data/versions/2\n"
          ]
        },
        {
          "output_type": "stream",
          "name": "stderr",
          "text": [
            "\n"
          ]
        }
      ]
    },
    {
      "cell_type": "code",
      "source": [
        "import pandas as pd, pathlib\n",
        "data_dir = pathlib.Path(dataset_path)\n",
        "df = pd.read_csv(data_dir/'train_data_cleaning.csv')\n",
        "print(df.head())\n"
      ],
      "metadata": {
        "colab": {
          "base_uri": "https://localhost:8080/"
        },
        "id": "8JmXqDOtm976",
        "outputId": "2da5507e-3bf6-439b-d041-b649ccbb5a63"
      },
      "execution_count": null,
      "outputs": [
        {
          "output_type": "stream",
          "name": "stdout",
          "text": [
            "   id keyword location                                               text  \\\n",
            "0   1     NaN      NaN  Our Deeds are the Reason of this  # earthquake...   \n",
            "1   4     NaN      NaN           Forest fire near La Ronge Sask .  Canada   \n",
            "2   5     NaN      NaN  All residents asked to  ' shelter in place '  ...   \n",
            "3   6     NaN      NaN  13,000 people receive  # wildfires evacuation ...   \n",
            "4   7     NaN      NaN  Just got sent this photo from Ruby  # Alaska a...   \n",
            "\n",
            "   target  \n",
            "0       1  \n",
            "1       1  \n",
            "2       1  \n",
            "3       1  \n",
            "4       1  \n"
          ]
        }
      ]
    },
    {
      "cell_type": "code",
      "source": [
        "import re, string, nltk\n",
        "from nltk.tokenize import TweetTokenizer\n",
        "from gensim.models.phrases import Phrases, Phraser\n",
        "\n",
        "# 1) Prepare stopwords and TweetTokenizer\n",
        "nltk.download('stopwords')                                              # :contentReference[oaicite:2]{index=2}\n",
        "STOP = set(nltk.corpus.stopwords.words('english'))\n",
        "EXTRA_STOP = {\"iphone\", \"time_utc\", \"utc\"}                              # :contentReference[oaicite:3]{index=3}\n",
        "tt = TweetTokenizer(reduce_len=True, strip_handles=True)                # :contentReference[oaicite:4]{index=4}\n",
        "\n",
        "def clean(text: str) -> list[str]:\n",
        "    text = re.sub(r\"http\\S+\", \" \", text.lower())                        # Remove URLs\n",
        "    tokens = [t for t in tt.tokenize(text)                              # Tweet-specific tokenizer\n",
        "              if t.isalpha() and t not in STOP | EXTRA_STOP and len(t) > 2]\n",
        "    return tokens\n",
        "\n",
        "# 2) Apply the cleaning function\n",
        "sentences_tokens = df[\"text\"].map(clean)\n",
        "\n",
        "# 3) Train the bigram model\n",
        "phrases = Phrases(sentences_tokens, min_count=3, threshold=5)           # :contentReference[oaicite:7]{index=7}\n",
        "bigram  = Phraser(phrases)                                              # Obtain FrozenPhrases\n",
        "\n",
        "# 4) ★ Use apply + lambda to invoke bigram ★\n",
        "sentences = sentences_tokens.apply(lambda toks: bigram[toks])\n",
        "\n",
        "print(sentences.head(3))\n"
      ],
      "metadata": {
        "colab": {
          "base_uri": "https://localhost:8080/"
        },
        "id": "FQlfWdrzn2wg",
        "outputId": "875b2a00-cad0-45f0-8420-e01b9d9e9600"
      },
      "execution_count": null,
      "outputs": [
        {
          "output_type": "stream",
          "name": "stderr",
          "text": [
            "[nltk_data] Downloading package stopwords to /root/nltk_data...\n",
            "[nltk_data]   Package stopwords is already up-to-date!\n"
          ]
        },
        {
          "output_type": "stream",
          "name": "stdout",
          "text": [
            "0     [deeds, reason, earthquake, may, allah, forgive]\n",
            "1             [forest_fire, near, ronge, sask, canada]\n",
            "2    [residents, asked, shelter, place, notified, o...\n",
            "Name: text, dtype: object\n"
          ]
        }
      ]
    },
    {
      "cell_type": "code",
      "source": [
        "from gensim.downloader import load as api_load\n",
        "from itertools import chain\n",
        "\n",
        "# 1️⃣ Prepare two independent sentence sources\n",
        "wikitext = api_load('text8')       # gensim corpus object that can be iterated multiple times\n",
        "disaster_sents = list(sentences)   # Materialize if desired, or define a similar Iterable class\n",
        "\n",
        "# 2️⃣ Define an Iterable Class\n",
        "class CombinedCorpus:\n",
        "    def __iter__(self):\n",
        "        # Each for-loop restarts from the beginning\n",
        "        for sent in wikitext:\n",
        "            yield sent\n",
        "        for sent in disaster_sents:\n",
        "            yield sent\n",
        "\n",
        "corpus = CombinedCorpus()\n",
        "\n",
        "# 3️⃣ Build the vocabulary and train\n",
        "model = Word2Vec(\n",
        "    vector_size=300, window=5, sg=1,\n",
        "    min_count=2, workers=4\n",
        ")\n",
        "model.build_vocab(corpus)\n",
        "model.train(\n",
        "    corpus,\n",
        "    total_examples=model.corpus_count,\n",
        "    epochs=10\n",
        ")\n"
      ],
      "metadata": {
        "colab": {
          "base_uri": "https://localhost:8080/"
        },
        "id": "pJS0JKUTf9Uv",
        "outputId": "16c3ae9d-6df5-4e56-b1e3-0cf08fde8a23"
      },
      "execution_count": null,
      "outputs": [
        {
          "output_type": "execute_result",
          "data": {
            "text/plain": [
              "(127500673, 170645960)"
            ]
          },
          "metadata": {},
          "execution_count": 67
        }
      ]
    },
    {
      "cell_type": "code",
      "source": [
        "class Corpus:\n",
        "  def __iter__(self):\n",
        "    for tokens in sentences:\n",
        "      if tokens:\n",
        "        yield tokens\n",
        "\n",
        "corpus = Corpus()\n"
      ],
      "metadata": {
        "id": "1EqFIi-1oy0x"
      },
      "execution_count": null,
      "outputs": []
    },
    {
      "cell_type": "code",
      "source": [
        "from gensim.models import Word2Vec\n",
        "model = Word2Vec(\n",
        "        sentences = combined_corpus,     # Any iterable of token lists\n",
        "        vector_size = 250,      # Dimensionality of the word vectors\n",
        "        window = 20,        # Context window size\n",
        "        sg = 1,            # 1 = Skip-Gram, 0 = CBOW\n",
        "        negative = 15,\n",
        "        sample = 0.0001,        # 1=Skip‑Gram, 0=CBOW\n",
        "        min_count = 2,        # Minimum frequency threshold\n",
        "        workers = 4,         # Number of worker threads\n",
        "        epochs = 25)       # Number of training epochs\n"
      ],
      "metadata": {
        "colab": {
          "base_uri": "https://localhost:8080/"
        },
        "id": "SxE43S8jo2lG",
        "outputId": "4373480f-4fd8-4f17-aaa6-7eb51585b216"
      },
      "execution_count": null,
      "outputs": [
        {
          "output_type": "stream",
          "name": "stderr",
          "text": [
            "WARNING:gensim.models.word2vec:train() called with an empty iterator (if not intended, be sure to provide a corpus that offers restartable iteration = an iterable).\n",
            "WARNING:gensim.models.word2vec:EPOCH 0: supplied example count (0) did not equal expected count (9314)\n",
            "WARNING:gensim.models.word2vec:EPOCH 0: supplied raw word count (0) did not equal expected count (17064596)\n",
            "WARNING:gensim.models.word2vec:train() called with an empty iterator (if not intended, be sure to provide a corpus that offers restartable iteration = an iterable).\n",
            "WARNING:gensim.models.word2vec:EPOCH 1: supplied example count (0) did not equal expected count (9314)\n",
            "WARNING:gensim.models.word2vec:EPOCH 1: supplied raw word count (0) did not equal expected count (17064596)\n",
            "WARNING:gensim.models.word2vec:train() called with an empty iterator (if not intended, be sure to provide a corpus that offers restartable iteration = an iterable).\n",
            "WARNING:gensim.models.word2vec:EPOCH 2: supplied example count (0) did not equal expected count (9314)\n",
            "WARNING:gensim.models.word2vec:EPOCH 2: supplied raw word count (0) did not equal expected count (17064596)\n",
            "WARNING:gensim.models.word2vec:train() called with an empty iterator (if not intended, be sure to provide a corpus that offers restartable iteration = an iterable).\n",
            "WARNING:gensim.models.word2vec:EPOCH 3: supplied example count (0) did not equal expected count (9314)\n",
            "WARNING:gensim.models.word2vec:EPOCH 3: supplied raw word count (0) did not equal expected count (17064596)\n",
            "WARNING:gensim.models.word2vec:train() called with an empty iterator (if not intended, be sure to provide a corpus that offers restartable iteration = an iterable).\n",
            "WARNING:gensim.models.word2vec:EPOCH 4: supplied example count (0) did not equal expected count (9314)\n",
            "WARNING:gensim.models.word2vec:EPOCH 4: supplied raw word count (0) did not equal expected count (17064596)\n",
            "WARNING:gensim.models.word2vec:train() called with an empty iterator (if not intended, be sure to provide a corpus that offers restartable iteration = an iterable).\n",
            "WARNING:gensim.models.word2vec:EPOCH 5: supplied example count (0) did not equal expected count (9314)\n",
            "WARNING:gensim.models.word2vec:EPOCH 5: supplied raw word count (0) did not equal expected count (17064596)\n",
            "WARNING:gensim.models.word2vec:train() called with an empty iterator (if not intended, be sure to provide a corpus that offers restartable iteration = an iterable).\n",
            "WARNING:gensim.models.word2vec:EPOCH 6: supplied example count (0) did not equal expected count (9314)\n",
            "WARNING:gensim.models.word2vec:EPOCH 6: supplied raw word count (0) did not equal expected count (17064596)\n",
            "WARNING:gensim.models.word2vec:train() called with an empty iterator (if not intended, be sure to provide a corpus that offers restartable iteration = an iterable).\n",
            "WARNING:gensim.models.word2vec:EPOCH 7: supplied example count (0) did not equal expected count (9314)\n",
            "WARNING:gensim.models.word2vec:EPOCH 7: supplied raw word count (0) did not equal expected count (17064596)\n",
            "WARNING:gensim.models.word2vec:train() called with an empty iterator (if not intended, be sure to provide a corpus that offers restartable iteration = an iterable).\n",
            "WARNING:gensim.models.word2vec:EPOCH 8: supplied example count (0) did not equal expected count (9314)\n",
            "WARNING:gensim.models.word2vec:EPOCH 8: supplied raw word count (0) did not equal expected count (17064596)\n",
            "WARNING:gensim.models.word2vec:train() called with an empty iterator (if not intended, be sure to provide a corpus that offers restartable iteration = an iterable).\n",
            "WARNING:gensim.models.word2vec:EPOCH 9: supplied example count (0) did not equal expected count (9314)\n",
            "WARNING:gensim.models.word2vec:EPOCH 9: supplied raw word count (0) did not equal expected count (17064596)\n",
            "WARNING:gensim.models.word2vec:train() called with an empty iterator (if not intended, be sure to provide a corpus that offers restartable iteration = an iterable).\n",
            "WARNING:gensim.models.word2vec:EPOCH 10: supplied example count (0) did not equal expected count (9314)\n",
            "WARNING:gensim.models.word2vec:EPOCH 10: supplied raw word count (0) did not equal expected count (17064596)\n",
            "WARNING:gensim.models.word2vec:train() called with an empty iterator (if not intended, be sure to provide a corpus that offers restartable iteration = an iterable).\n",
            "WARNING:gensim.models.word2vec:EPOCH 11: supplied example count (0) did not equal expected count (9314)\n",
            "WARNING:gensim.models.word2vec:EPOCH 11: supplied raw word count (0) did not equal expected count (17064596)\n",
            "WARNING:gensim.models.word2vec:train() called with an empty iterator (if not intended, be sure to provide a corpus that offers restartable iteration = an iterable).\n",
            "WARNING:gensim.models.word2vec:EPOCH 12: supplied example count (0) did not equal expected count (9314)\n",
            "WARNING:gensim.models.word2vec:EPOCH 12: supplied raw word count (0) did not equal expected count (17064596)\n",
            "WARNING:gensim.models.word2vec:train() called with an empty iterator (if not intended, be sure to provide a corpus that offers restartable iteration = an iterable).\n",
            "WARNING:gensim.models.word2vec:EPOCH 13: supplied example count (0) did not equal expected count (9314)\n",
            "WARNING:gensim.models.word2vec:EPOCH 13: supplied raw word count (0) did not equal expected count (17064596)\n",
            "WARNING:gensim.models.word2vec:train() called with an empty iterator (if not intended, be sure to provide a corpus that offers restartable iteration = an iterable).\n",
            "WARNING:gensim.models.word2vec:EPOCH 14: supplied example count (0) did not equal expected count (9314)\n",
            "WARNING:gensim.models.word2vec:EPOCH 14: supplied raw word count (0) did not equal expected count (17064596)\n",
            "WARNING:gensim.models.word2vec:train() called with an empty iterator (if not intended, be sure to provide a corpus that offers restartable iteration = an iterable).\n",
            "WARNING:gensim.models.word2vec:EPOCH 15: supplied example count (0) did not equal expected count (9314)\n",
            "WARNING:gensim.models.word2vec:EPOCH 15: supplied raw word count (0) did not equal expected count (17064596)\n",
            "WARNING:gensim.models.word2vec:train() called with an empty iterator (if not intended, be sure to provide a corpus that offers restartable iteration = an iterable).\n",
            "WARNING:gensim.models.word2vec:EPOCH 16: supplied example count (0) did not equal expected count (9314)\n",
            "WARNING:gensim.models.word2vec:EPOCH 16: supplied raw word count (0) did not equal expected count (17064596)\n",
            "WARNING:gensim.models.word2vec:train() called with an empty iterator (if not intended, be sure to provide a corpus that offers restartable iteration = an iterable).\n",
            "WARNING:gensim.models.word2vec:EPOCH 17: supplied example count (0) did not equal expected count (9314)\n",
            "WARNING:gensim.models.word2vec:EPOCH 17: supplied raw word count (0) did not equal expected count (17064596)\n",
            "WARNING:gensim.models.word2vec:train() called with an empty iterator (if not intended, be sure to provide a corpus that offers restartable iteration = an iterable).\n",
            "WARNING:gensim.models.word2vec:EPOCH 18: supplied example count (0) did not equal expected count (9314)\n",
            "WARNING:gensim.models.word2vec:EPOCH 18: supplied raw word count (0) did not equal expected count (17064596)\n",
            "WARNING:gensim.models.word2vec:train() called with an empty iterator (if not intended, be sure to provide a corpus that offers restartable iteration = an iterable).\n",
            "WARNING:gensim.models.word2vec:EPOCH 19: supplied example count (0) did not equal expected count (9314)\n",
            "WARNING:gensim.models.word2vec:EPOCH 19: supplied raw word count (0) did not equal expected count (17064596)\n",
            "WARNING:gensim.models.word2vec:train() called with an empty iterator (if not intended, be sure to provide a corpus that offers restartable iteration = an iterable).\n",
            "WARNING:gensim.models.word2vec:EPOCH 20: supplied example count (0) did not equal expected count (9314)\n",
            "WARNING:gensim.models.word2vec:EPOCH 20: supplied raw word count (0) did not equal expected count (17064596)\n",
            "WARNING:gensim.models.word2vec:train() called with an empty iterator (if not intended, be sure to provide a corpus that offers restartable iteration = an iterable).\n",
            "WARNING:gensim.models.word2vec:EPOCH 21: supplied example count (0) did not equal expected count (9314)\n",
            "WARNING:gensim.models.word2vec:EPOCH 21: supplied raw word count (0) did not equal expected count (17064596)\n",
            "WARNING:gensim.models.word2vec:train() called with an empty iterator (if not intended, be sure to provide a corpus that offers restartable iteration = an iterable).\n",
            "WARNING:gensim.models.word2vec:EPOCH 22: supplied example count (0) did not equal expected count (9314)\n",
            "WARNING:gensim.models.word2vec:EPOCH 22: supplied raw word count (0) did not equal expected count (17064596)\n",
            "WARNING:gensim.models.word2vec:train() called with an empty iterator (if not intended, be sure to provide a corpus that offers restartable iteration = an iterable).\n",
            "WARNING:gensim.models.word2vec:EPOCH 23: supplied example count (0) did not equal expected count (9314)\n",
            "WARNING:gensim.models.word2vec:EPOCH 23: supplied raw word count (0) did not equal expected count (17064596)\n",
            "WARNING:gensim.models.word2vec:train() called with an empty iterator (if not intended, be sure to provide a corpus that offers restartable iteration = an iterable).\n",
            "WARNING:gensim.models.word2vec:EPOCH 24: supplied example count (0) did not equal expected count (9314)\n",
            "WARNING:gensim.models.word2vec:EPOCH 24: supplied raw word count (0) did not equal expected count (17064596)\n"
          ]
        }
      ]
    },
    {
      "cell_type": "code",
      "source": [
        "model_path = \"/content/word2vec.bin\"\n",
        "model.wv.save_word2vec_format(model_path, binary=True)\n",
        "print(\"model has been saved\", model_path)\n"
      ],
      "metadata": {
        "colab": {
          "base_uri": "https://localhost:8080/"
        },
        "id": "m4jam-HCpIyN",
        "outputId": "da81dbf5-6eae-41c4-a3d0-b03f65fa6ee6"
      },
      "execution_count": null,
      "outputs": [
        {
          "output_type": "stream",
          "name": "stdout",
          "text": [
            "模型已保存： /content/word2vec.bin\n"
          ]
        }
      ]
    },
    {
      "cell_type": "code",
      "source": [
        "print(\"🌍 earthquake →\", model.wv.most_similar(\"earthquake\",  topn=10))\n",
        "print(\"🔥 wildfire   →\", model.wv.most_similar(\"wildfire\",    topn=10))\n",
        "print(\"🌊 flood      →\", model.wv.most_similar(\"flood\",       topn=5))\n",
        "print(\"🌀 tornado    →\", model.wv.most_similar(\"tornado\",     topn=5))\n"
      ],
      "metadata": {
        "colab": {
          "base_uri": "https://localhost:8080/"
        },
        "id": "RPb4-ASkpMJE",
        "outputId": "b3400f5b-ec20-4d99-de32-4be09ad7f656"
      },
      "execution_count": null,
      "outputs": [
        {
          "output_type": "stream",
          "name": "stdout",
          "text": [
            "🌍 earthquake → [('earthquakes', 0.6003329157829285), ('hanshin', 0.587181806564331), ('prieta', 0.573293924331665), ('epicenters', 0.5732309222221375), ('sylmar', 0.5678456425666809), ('tangshan', 0.5595299005508423), ('chuetsu', 0.5483529567718506), ('sismo', 0.5426573157310486), ('ancash', 0.5376684665679932), ('nisqually', 0.5360806584358215)]\n",
            "🔥 wildfire   → [('northern_california', 0.7010824084281921), ('evacuation_order', 0.647872805595398), ('roosevelt_wash', 0.6472470760345459), ('fire_update', 0.6456758975982666), ('parker_ridge', 0.6453662514686584), ('wildfires', 0.6366869807243347), ('route_complex', 0.6360307335853577), ('idaho_fire', 0.6274527311325073), ('feels_like', 0.6195122003555298), ('alberta_storm', 0.6189935803413391)]\n",
            "🌊 flood      → [('flooding', 0.4846715033054352), ('johnstown', 0.45947974920272827), ('turbid', 0.4534183144569397), ('spillway', 0.4429597854614258), ('floods', 0.44228100776672363)]\n",
            "🌀 tornado    → [('panavia', 0.5671097636222839), ('hailstorm', 0.562608003616333), ('mattoon', 0.5618714094161987), ('flash_flooding', 0.5610087513923645), ('yyc', 0.5485637784004211)]\n"
          ]
        }
      ]
    },
    {
      "cell_type": "code",
      "source": [],
      "metadata": {
        "id": "hE17Xa75VUXw"
      },
      "execution_count": null,
      "outputs": []
    },
    {
      "cell_type": "code",
      "source": [
        "print(\"🥫 food      →\", model.wv.most_similar(\"food\",topn=10))\n",
        "print(\"🏠 shelter   →\", model.wv.most_similar(\"shelter\",topn=10))\n",
        "print(\"💊 medicine  →\", model.wv.most_similar(\"medicine\",topn=10))\n",
        "print(\"🚰 water     →\", model.wv.most_similar(\"water\",topn=10))\n"
      ],
      "metadata": {
        "colab": {
          "base_uri": "https://localhost:8080/"
        },
        "id": "yJGK84OFHA1-",
        "outputId": "63052894-75dc-40aa-95fc-8785ca13061f"
      },
      "execution_count": null,
      "outputs": [
        {
          "output_type": "stream",
          "name": "stdout",
          "text": [
            "🥫 food      → [('foods', 0.5939129590988159), ('fishmeal', 0.5818348526954651), ('starchy', 0.55527663230896), ('shellfish', 0.5474386811256409), ('zenkimchi', 0.5434109568595886), ('wfp', 0.5426414608955383), ('foodstuffs', 0.5420812964439392), ('perishable', 0.5416118502616882), ('meat', 0.5390897393226624), ('dollies', 0.5384724736213684)]\n",
            "🏠 shelter   → [('inclemency', 0.5569344162940979), ('sheltering', 0.524232804775238), ('shelters', 0.5167546272277832), ('clothe', 0.5145229697227478), ('sanitation', 0.49648115038871765), ('fallout', 0.4963216483592987), ('firewood', 0.4946717619895935), ('survivalring', 0.4943796992301941), ('torpedoed', 0.4852437376976013), ('incase', 0.48518747091293335)]\n",
            "💊 medicine  → [('physiology', 0.6176894903182983), ('physiotherapy', 0.5692651867866516), ('medical', 0.5687744617462158), ('osteopathy', 0.5469571948051453), ('ayurveda', 0.5425676703453064), ('orthomolecular', 0.5366150140762329), ('nccam', 0.5224237442016602), ('pulmonology', 0.5196557641029358), ('ayurvedic', 0.5187225937843323), ('veterinary', 0.517001211643219)]\n",
            "🚰 water     → [('groundwater', 0.5989862680435181), ('seawater', 0.5917273163795471), ('semiheavy', 0.5885026454925537), ('potable', 0.5746363401412964), ('topsoil', 0.5686874985694885), ('aerated', 0.5668606758117676), ('evaporates', 0.5666793584823608), ('turbid', 0.5664398670196533), ('cribs', 0.5663065910339355), ('vapour', 0.5638981461524963)]\n"
          ]
        }
      ]
    },
    {
      "cell_type": "code",
      "source": [
        "print(\"🇺🇸 california  →\", model.wv.most_similar(\"california\",  topn=5))\n",
        "print(\"🇮🇩 indonesia   →\", model.wv.most_similar(\"indonesia\",   topn=5))"
      ],
      "metadata": {
        "colab": {
          "base_uri": "https://localhost:8080/"
        },
        "id": "lbGvLhBwHIPn",
        "outputId": "a300a5f1-4868-47ab-8734-d09e3d3ebb90"
      },
      "execution_count": null,
      "outputs": [
        {
          "output_type": "stream",
          "name": "stdout",
          "text": [
            "🇺🇸 california  → [('wild_fires', 0.9959452748298645), ('firefighters', 0.9938658475875854), ('thetawniest', 0.9937743544578552), ('federal', 0.9936322569847107), ('aria', 0.9935943484306335)]\n",
            "🇮🇩 indonesia   → [('korea', 0.9993283152580261), ('fourth', 0.9993040561676025), ('deepest', 0.9992878437042236), ('cheap', 0.9992775321006775), ('condolences', 0.9992697834968567)]\n"
          ]
        }
      ]
    },
    {
      "cell_type": "code",
      "source": [
        "print(\"🌲 forest_fire  →\", model.wv.most_similar(\"forest_fire\", topn=5))\n",
        "print(\"🛑 evacuation_order →\", model.wv.most_similar(\"evacuation_order\", topn=5))\n"
      ],
      "metadata": {
        "colab": {
          "base_uri": "https://localhost:8080/"
        },
        "id": "-XKwUcwaHSZ9",
        "outputId": "bc4b495b-9f73-4d48-d393-21e00abc2637"
      },
      "execution_count": null,
      "outputs": [
        {
          "output_type": "stream",
          "name": "stdout",
          "text": [
            "🌲 forest_fire  → [('nuff', 0.7372389435768127), ('cuz', 0.720212996006012), ('campfire', 0.7192258834838867), ('tryna', 0.7001107931137085), ('gonna_get', 0.6970714926719666)]\n",
            "🛑 evacuation_order → [('lifted_town', 0.8887737989425659), ('roosevelt_wash', 0.8177922964096069), ('cafire', 0.7164545059204102), ('alberta_storm', 0.7157350778579712), ('warning_oklahoma', 0.7067198753356934)]\n"
          ]
        }
      ]
    },
    {
      "cell_type": "code",
      "source": [
        "words = [\"food\",\"shelter\",\"water\"]\n",
        "vectors = [model.wv[w] for w in words]\n",
        "vectors_kv = model.wv.vectors_for_all(words)\n",
        "print(vectors)\n"
      ],
      "metadata": {
        "colab": {
          "base_uri": "https://localhost:8080/"
        },
        "id": "kIWPEABtVVdQ",
        "outputId": "959bcbb7-c392-4d6c-f55a-78ca1f24e82c"
      },
      "execution_count": null,
      "outputs": [
        {
          "output_type": "stream",
          "name": "stdout",
          "text": [
            "[array([ 0.52643585,  0.00090234, -0.04764531, -0.02034093, -0.02679369,\n",
            "        0.02784539,  0.19168304,  0.08437032,  0.16393915,  0.21736465,\n",
            "       -0.09588082,  0.1557533 ,  0.03872947,  0.06891293, -0.0483078 ,\n",
            "       -0.06281126, -0.13731349, -0.19415681, -0.17996654, -0.1413677 ,\n",
            "       -0.37603506,  0.00210785,  0.09007993,  0.01874966, -0.02688764,\n",
            "       -0.16444133,  0.02312358, -0.10480254,  0.02538643, -0.02664514,\n",
            "       -0.11262378,  0.0881897 , -0.23052819, -0.03469328, -0.1833586 ,\n",
            "       -0.03414114, -0.22732723, -0.2658503 ,  0.11860419, -0.2553458 ,\n",
            "       -0.18663155, -0.26120517,  0.15657973,  0.21255085,  0.08847817,\n",
            "       -0.08787587, -0.10285738,  0.00947458,  0.1998685 , -0.11106337,\n",
            "        0.09321106, -0.24255764,  0.15180176, -0.33091214,  0.0171075 ,\n",
            "        0.1050768 ,  0.10136341,  0.04712922, -0.0819614 , -0.04710401,\n",
            "        0.06536388,  0.07298957, -0.04432363,  0.16253936, -0.33551028,\n",
            "       -0.16093381,  0.12457749,  0.02667357,  0.16941048, -0.18102103,\n",
            "       -0.1122724 , -0.11119456, -0.22545758, -0.03723536,  0.25496152,\n",
            "       -0.275624  , -0.1607825 , -0.12099513, -0.02237546,  0.06507464,\n",
            "        0.04831586,  0.06256546, -0.22714238,  0.28888783, -0.2071296 ,\n",
            "       -0.17236023,  0.06871466,  0.1471603 ,  0.23797666,  0.20518592,\n",
            "       -0.15853706, -0.04310363,  0.00583217,  0.12946247, -0.04518759,\n",
            "        0.04908039, -0.18939921,  0.14042105,  0.03528096,  0.09145931,\n",
            "       -0.07705487, -0.2044273 , -0.02710056, -0.18360567, -0.11564208,\n",
            "       -0.04166374, -0.13847454,  0.02750533,  0.03579253,  0.06390676,\n",
            "       -0.07876817, -0.0969286 ,  0.01292134,  0.06155079, -0.01893017,\n",
            "        0.00190308, -0.0878039 , -0.1086821 , -0.01998666, -0.09381783,\n",
            "        0.05680917,  0.09222279, -0.03724581, -0.02439885, -0.21669267,\n",
            "       -0.06398719,  0.09529213,  0.14075981, -0.151174  ,  0.2635554 ,\n",
            "       -0.17429616,  0.08627918, -0.3417262 ,  0.02388781, -0.10481349,\n",
            "       -0.06079198, -0.14640947, -0.0154889 , -0.32010347, -0.20210531,\n",
            "        0.04500038, -0.23338807,  0.1184614 , -0.03825992,  0.2385105 ,\n",
            "        0.03123459,  0.08044405,  0.02893227,  0.07331546,  0.3834694 ,\n",
            "       -0.2985069 ,  0.13025789, -0.06777716, -0.02943764, -0.01347445,\n",
            "       -0.08728623, -0.17959589, -0.17093788,  0.05311069, -0.02938667,\n",
            "        0.0699294 , -0.04169833, -0.31129676, -0.20026469,  0.01226967,\n",
            "       -0.03893648,  0.17579924,  0.03712364,  0.12548979, -0.08780544,\n",
            "        0.2814876 ,  0.04422973,  0.07287298, -0.03383128, -0.13904554,\n",
            "       -0.15735693, -0.33116785, -0.05908388, -0.19818118,  0.06210268,\n",
            "        0.09269428, -0.10484187,  0.04510631, -0.1674092 , -0.16148746,\n",
            "        0.00598905,  0.12991881,  0.19430985, -0.2528807 , -0.20672831,\n",
            "       -0.1287494 , -0.03202247, -0.05847205,  0.04805038,  0.17911953,\n",
            "        0.05038174,  0.11353128,  0.13199112,  0.08694577,  0.16368422,\n",
            "        0.01868096,  0.08896833,  0.28752837,  0.17116497, -0.12055123,\n",
            "        0.09665358, -0.04538621,  0.11772767,  0.01537497, -0.06609282,\n",
            "       -0.14117584,  0.03859553,  0.07799002,  0.11730637, -0.06742491,\n",
            "       -0.41833588, -0.27880365, -0.35508943,  0.07801255, -0.3617439 ,\n",
            "        0.07441422,  0.23803133,  0.09641546,  0.07937435, -0.06855069,\n",
            "       -0.04087155,  0.19600669,  0.19291364, -0.24066019,  0.0360304 ,\n",
            "        0.11861516,  0.10802416, -0.13548595,  0.03080798, -0.22427937,\n",
            "        0.11088704,  0.01417115,  0.03274736,  0.13314547, -0.30802295,\n",
            "       -0.03494185,  0.11722501, -0.10232846, -0.11765243,  0.15257427,\n",
            "       -0.16929013, -0.07504879,  0.17025194, -0.0110395 , -0.04905344],\n",
            "      dtype=float32), array([ 1.04145564e-01,  1.92508358e-03, -2.04144239e-01, -2.31076881e-01,\n",
            "        2.60090809e-02,  1.19822986e-01, -3.93146873e-02,  5.98951727e-02,\n",
            "        2.53255695e-01,  1.75759554e-01, -1.06104232e-01,  1.19979963e-01,\n",
            "        1.65220410e-01, -7.88694131e-04, -1.67411268e-01, -5.47081828e-02,\n",
            "       -1.89469218e-01, -5.93434125e-02, -3.86210233e-02, -4.06185258e-03,\n",
            "       -1.46740615e-01, -9.67652649e-02,  1.58574879e-01, -3.32638361e-02,\n",
            "       -7.71927610e-02, -1.28592653e-02,  2.67465226e-02, -1.74278259e-01,\n",
            "       -2.25620732e-01, -1.94688831e-02, -7.40096867e-02,  9.40030348e-03,\n",
            "       -1.50100768e-01, -5.51606752e-02,  2.61747632e-02, -1.50893688e-01,\n",
            "       -1.29641190e-01, -1.18198216e-01,  1.03518777e-01, -9.45169851e-02,\n",
            "       -2.59290844e-01, -3.70023549e-01, -1.90930605e-01,  2.42245588e-02,\n",
            "       -1.21685006e-02, -3.09469283e-01, -1.56661998e-02, -2.11865783e-01,\n",
            "       -1.19080395e-02,  1.80576384e-01,  1.54915273e-01, -1.48845688e-01,\n",
            "       -3.82960811e-02, -1.11972861e-01,  2.20963806e-01, -5.85115962e-02,\n",
            "        1.01647383e-04,  1.85372606e-01, -1.59830540e-01,  3.25892359e-01,\n",
            "       -9.78914499e-02,  4.27430756e-02, -9.92774740e-02,  2.27620348e-01,\n",
            "        1.79770321e-01, -1.65906511e-02, -5.08576743e-02,  2.13247016e-02,\n",
            "       -1.48261249e-01, -3.61319304e-01,  1.21405963e-02, -1.57574654e-01,\n",
            "        1.72804296e-02, -8.90193284e-02,  7.63682425e-02, -2.74419785e-01,\n",
            "       -2.08385512e-01,  2.46197823e-03, -1.83315367e-01, -1.58880502e-01,\n",
            "       -5.52253574e-02,  9.57679376e-02, -2.51347363e-01,  7.89455548e-02,\n",
            "       -1.55151054e-01, -1.43846095e-01,  1.93748057e-01, -1.85484409e-01,\n",
            "        3.26347172e-01,  4.04210865e-01, -1.19264886e-01, -3.91070694e-02,\n",
            "        7.27887638e-03,  9.91155952e-03,  1.82563916e-01, -5.45426160e-02,\n",
            "       -1.98816881e-01, -1.38322506e-02, -2.98424326e-02, -3.24184597e-02,\n",
            "       -2.31217220e-01, -6.25894517e-02, -5.57154082e-02, -1.83951333e-01,\n",
            "       -9.27468836e-02,  2.04572111e-01,  9.59701464e-02,  1.46529367e-02,\n",
            "        1.93090886e-01, -3.24578807e-02, -2.67290920e-02,  8.20864215e-02,\n",
            "       -2.97324806e-01,  1.85643971e-01, -2.84380108e-01, -1.47263169e-01,\n",
            "       -8.39245170e-02, -2.21470401e-01, -2.60039661e-02, -1.87249199e-01,\n",
            "        1.18499935e-01, -2.78262049e-01,  3.41791511e-02, -4.96134788e-01,\n",
            "        1.00457601e-01, -9.09086466e-02,  1.73943654e-01,  1.18049160e-01,\n",
            "       -2.38796040e-01,  2.47981921e-01,  4.81241867e-02, -1.65826678e-01,\n",
            "        8.02611634e-02,  7.36488551e-02, -4.95020598e-02, -1.33412302e-01,\n",
            "       -1.34074241e-01, -2.89609004e-02, -2.58858889e-01, -1.10576570e-01,\n",
            "       -1.55155227e-01, -6.01954460e-01, -1.12980597e-01, -1.75411180e-01,\n",
            "       -3.65221091e-02, -7.58170011e-03,  3.98132652e-02,  6.78793788e-02,\n",
            "        3.13525870e-02,  2.49857068e-01, -1.47330940e-01,  3.80815752e-02,\n",
            "       -1.40364125e-01, -5.28947935e-02, -1.86546236e-01,  3.13363433e-01,\n",
            "       -2.32880682e-01, -1.64026360e-03, -1.99324507e-02,  1.57301500e-02,\n",
            "       -1.11977747e-02,  8.48941207e-02, -1.12619802e-01, -2.75461197e-01,\n",
            "       -8.65031034e-02, -8.89713541e-02,  1.09417707e-01,  1.06642261e-01,\n",
            "       -1.01216659e-01, -1.10080928e-01, -1.38154179e-01,  1.38183802e-01,\n",
            "        5.68208583e-02,  1.38770238e-01, -8.44692811e-02, -1.98635876e-01,\n",
            "        2.52969824e-02, -1.58349872e-01,  1.20089978e-01,  3.21527690e-01,\n",
            "       -7.80147314e-02,  6.09106570e-02,  2.95027811e-02, -3.10735494e-01,\n",
            "        1.47866175e-01, -1.50958955e-01, -2.50254720e-02,  2.97307044e-01,\n",
            "       -5.47618903e-02,  2.79445983e-02,  9.40053016e-02, -2.48594165e-01,\n",
            "       -3.36812466e-01,  2.32912615e-01, -1.61011234e-01, -2.39094608e-02,\n",
            "        2.05497384e-01, -1.02857865e-01, -1.17398612e-01,  2.21783698e-01,\n",
            "        2.15257660e-01,  1.60550624e-01, -9.46768094e-04,  1.21924475e-01,\n",
            "       -7.41546527e-02,  4.77160960e-02, -7.29829967e-02,  1.96641237e-01,\n",
            "       -2.90517025e-02, -8.13286081e-02, -1.03846468e-01, -3.82401086e-02,\n",
            "       -3.35321516e-01, -2.38372348e-02,  1.46343336e-01, -2.96479642e-01,\n",
            "       -1.78966492e-01, -2.68667430e-01,  1.00446999e-01, -1.37482598e-01,\n",
            "        3.63893248e-02,  1.99248195e-01, -3.72352451e-02,  1.16924278e-01,\n",
            "       -3.13485622e-01,  1.43182009e-01,  7.28094876e-02,  6.42260164e-02,\n",
            "       -2.43392065e-01,  1.38257846e-01, -7.81253874e-02, -4.99245636e-02,\n",
            "        4.81789112e-02,  6.33453503e-02, -3.36354494e-01, -1.44511595e-01,\n",
            "        8.36549513e-03, -8.05251002e-02,  3.34707601e-03, -3.22406858e-01,\n",
            "        3.41819555e-01,  1.49667084e-01, -1.48666203e-01, -1.56711981e-01,\n",
            "        3.55796963e-02, -3.69308978e-01,  1.70333073e-01,  1.25994787e-01,\n",
            "       -8.20180774e-02,  8.82820562e-02], dtype=float32), array([ 0.33733568, -0.07804691, -0.29448903,  0.07509413, -0.06904859,\n",
            "        0.17026505,  0.02691243,  0.05622957, -0.00260606,  0.27833846,\n",
            "       -0.06426104,  0.1566139 , -0.06169808, -0.02641125, -0.14207394,\n",
            "       -0.04970405, -0.14916903, -0.10184477,  0.02094075, -0.07957548,\n",
            "       -0.05379659,  0.05378406,  0.13671614,  0.00540057, -0.04358914,\n",
            "       -0.04804352,  0.17214757, -0.16476695, -0.10423673,  0.16943446,\n",
            "       -0.06473386,  0.16347694, -0.23264267, -0.11904199, -0.12335514,\n",
            "       -0.09837911, -0.15257962, -0.14088903,  0.19695736, -0.18887562,\n",
            "       -0.17472996, -0.10676064,  0.02359346,  0.24129468,  0.00189181,\n",
            "       -0.20895948, -0.02400489, -0.06941269,  0.00554253, -0.09346536,\n",
            "        0.2345029 , -0.0104516 , -0.06581742, -0.21651836,  0.03802296,\n",
            "       -0.20019676,  0.16001521,  0.06196971,  0.02826986,  0.32097158,\n",
            "       -0.05608414, -0.03601785, -0.09144945,  0.05656137,  0.01001106,\n",
            "       -0.0967051 ,  0.11584648, -0.1319958 , -0.09580372, -0.1008772 ,\n",
            "       -0.05814039, -0.00607811,  0.09092024, -0.2472177 ,  0.07108958,\n",
            "       -0.17663378, -0.02314285,  0.20235376,  0.03486471,  0.00545679,\n",
            "        0.03395983, -0.08112743, -0.21787296, -0.03480193,  0.01517091,\n",
            "       -0.08555909,  0.0290634 , -0.06190311,  0.316806  ,  0.30522513,\n",
            "       -0.24600612,  0.08887924,  0.08694797,  0.1328008 ,  0.21327496,\n",
            "        0.00259634, -0.23022756,  0.08519315,  0.14061661,  0.08739531,\n",
            "       -0.18046893,  0.0445119 , -0.09791345, -0.03498311,  0.09456962,\n",
            "        0.20953105,  0.09064186,  0.15450586, -0.09831298, -0.12329017,\n",
            "       -0.02024076,  0.06419574,  0.01400654,  0.16846293, -0.01727098,\n",
            "       -0.2000899 , -0.11399631, -0.18829276, -0.015947  , -0.16627952,\n",
            "        0.06022996, -0.11579687,  0.01117187, -0.24291624, -0.17238459,\n",
            "        0.06035882, -0.17790182,  0.24839692, -0.16375291,  0.04123714,\n",
            "        0.09348828, -0.03402894,  0.06617425,  0.03199174, -0.06271566,\n",
            "       -0.02027849,  0.02274415,  0.03323079, -0.1911536 , -0.2480887 ,\n",
            "       -0.05192342, -0.38031232,  0.0225799 , -0.08114892,  0.08057768,\n",
            "        0.16163747,  0.04571386, -0.16346283,  0.03250373,  0.23157428,\n",
            "       -0.14788395, -0.11249249,  0.05593327, -0.05146404, -0.03941585,\n",
            "        0.00812024,  0.01171229,  0.07849816,  0.1457498 ,  0.24247472,\n",
            "        0.17146829, -0.04608918, -0.1972377 , -0.20243293, -0.1992311 ,\n",
            "       -0.05661335,  0.14563802,  0.24720864, -0.01650682, -0.02006129,\n",
            "        0.07795828, -0.06747888, -0.06807442,  0.12480573, -0.02021513,\n",
            "       -0.1366477 ,  0.01184045, -0.1354363 , -0.02766835,  0.04380919,\n",
            "        0.00310364,  0.11031293,  0.20677379, -0.11308468, -0.03481731,\n",
            "       -0.06010892,  0.05270974,  0.27519488, -0.2304518 ,  0.00417317,\n",
            "        0.12888254, -0.25854298, -0.2043031 ,  0.02723522,  0.03679331,\n",
            "       -0.01981047,  0.124915  , -0.0176178 ,  0.01635574,  0.19428718,\n",
            "        0.06705044,  0.18694846, -0.08011353, -0.04646932, -0.03808187,\n",
            "        0.15094541, -0.19080871,  0.03749571, -0.16938402, -0.20330451,\n",
            "       -0.13261177,  0.13130179, -0.08260787, -0.01304087,  0.08892718,\n",
            "       -0.27768975, -0.1326158 , -0.12938821,  0.03371757, -0.2539406 ,\n",
            "        0.18507363,  0.09283473,  0.15886152,  0.12123559, -0.21806075,\n",
            "        0.08957032,  0.0177121 ,  0.17211133, -0.1691496 , -0.0629034 ,\n",
            "        0.14272453, -0.08489578, -0.02795489,  0.04854821, -0.14461078,\n",
            "        0.10070024, -0.16184951,  0.06383041, -0.03215185, -0.06912327,\n",
            "        0.14297166,  0.04499481,  0.02035699, -0.10013381,  0.05647423,\n",
            "       -0.33288467,  0.08131163,  0.17662911, -0.12446078, -0.03312355],\n",
            "      dtype=float32)]\n"
          ]
        }
      ]
    },
    {
      "cell_type": "code",
      "source": [
        "vec = model.wv['earthquake']\n",
        "print(type(vec))     # <class 'numpy.ndarray'>\n",
        "print(vec.shape)"
      ],
      "metadata": {
        "colab": {
          "base_uri": "https://localhost:8080/"
        },
        "id": "-Lc275NKWpus",
        "outputId": "71bf384a-5df6-4262-a1df-ca8efa1e8aed"
      },
      "execution_count": null,
      "outputs": [
        {
          "output_type": "stream",
          "name": "stdout",
          "text": [
            "<class 'numpy.ndarray'>\n",
            "(250,)\n"
          ]
        }
      ]
    }
  ]
}